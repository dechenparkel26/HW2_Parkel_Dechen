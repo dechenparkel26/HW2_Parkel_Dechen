{
 "cells": [
  {
   "cell_type": "code",
   "execution_count": 1,
   "id": "3d3b8189",
   "metadata": {},
   "outputs": [
    {
     "name": "stdout",
     "output_type": "stream",
     "text": [
      "0\n",
      "1\n",
      "2\n",
      "3\n",
      "4\n",
      "5\n"
     ]
    }
   ],
   "source": [
    "n = 0\n",
    "while n < 10:\n",
    "    print(n)\n",
    "    if n == 5:\n",
    "        break\n",
    "    n += 1"
   ]
  },
  {
   "cell_type": "code",
   "execution_count": 2,
   "id": "d84fc12a",
   "metadata": {},
   "outputs": [
    {
     "name": "stdout",
     "output_type": "stream",
     "text": [
      "0\n",
      "1\n",
      "2\n",
      "3\n",
      "4\n",
      "5 is not less than 5\n"
     ]
    }
   ],
   "source": [
    "t = 0\n",
    "while t < 5:\n",
    "    print (t)\n",
    "    t += 1\n",
    "else:\n",
    "    print(n, 'is not less than 5')"
   ]
  },
  {
   "cell_type": "code",
   "execution_count": 3,
   "id": "44be31ef",
   "metadata": {},
   "outputs": [
    {
     "name": "stdout",
     "output_type": "stream",
     "text": [
      "I like blackberry\n",
      "I like grape\n",
      "I like strawberry\n",
      "Is apple a fruit?\n"
     ]
    }
   ],
   "source": [
    "fruitlist = ['blackberry', 'grape', 'strawberry', 'apple']\n",
    "for fruit in fruitlist:\n",
    "    if fruit == \"apple\":\n",
    "        print('Is apple a fruit?')\n",
    "    else:\n",
    "        print(\"I like\", fruit)"
   ]
  },
  {
   "cell_type": "code",
   "execution_count": 4,
   "id": "1134d058",
   "metadata": {},
   "outputs": [
    {
     "name": "stdout",
     "output_type": "stream",
     "text": [
      "sum = 465\n"
     ]
    }
   ],
   "source": [
    "n = 30\n",
    "total_numbers = n\n",
    "sum = 0\n",
    "while n >= 0:\n",
    "    sum += n\n",
    "    n -= 1\n",
    "print(\"sum =\", sum)"
   ]
  },
  {
   "cell_type": "code",
   "execution_count": 5,
   "id": "96a85f7f",
   "metadata": {},
   "outputs": [
    {
     "name": "stdout",
     "output_type": "stream",
     "text": [
      "C\n"
     ]
    }
   ],
   "source": [
    "score = 71\n",
    "\n",
    "if score >= 90:\n",
    "    print('A')\n",
    "elif score >= 80:\n",
    "    print('B')\n",
    "elif score >= 70:\n",
    "    print('C')\n",
    "elif score >= 60:\n",
    "    print ('D')\n",
    "else:\n",
    "    print('F')"
   ]
  },
  {
   "cell_type": "code",
   "execution_count": 1,
   "id": "4a684c54",
   "metadata": {},
   "outputs": [],
   "source": [
    "scores = {'Andy':88, 'Amy':66, 'James': 90, 'Jules': 55, 'Arthur': 77}"
   ]
  },
  {
   "cell_type": "code",
   "execution_count": 2,
   "id": "d922ad51",
   "metadata": {
    "scrolled": true
   },
   "outputs": [
    {
     "name": "stdout",
     "output_type": "stream",
     "text": [
      "Andy has a grade of 88\n",
      "Amy has a grade of 66\n",
      "James has a grade of 90\n",
      "Jules has a grade of 55\n",
      "Arthur has a grade of 77\n"
     ]
    }
   ],
   "source": [
    "for student in scores:\n",
    "    print(student, \"has a grade of\", scores[student])"
   ]
  },
  {
   "cell_type": "code",
   "execution_count": 3,
   "id": "4cb318c8",
   "metadata": {
    "scrolled": true
   },
   "outputs": [
    {
     "name": "stdout",
     "output_type": "stream",
     "text": [
      "The mean is 75.2\n",
      "The max is 90\n",
      "The min is 55\n"
     ]
    }
   ],
   "source": [
    "grades=list(scores.values())\n",
    "Mean=sum(grades)/len(grades)\n",
    "print(\"The mean is\", Mean)\n",
    "print(\"The max is\", max(grades))\n",
    "print(\"The min is\", min(grades))"
   ]
  },
  {
   "cell_type": "code",
   "execution_count": 4,
   "id": "fdc345b7",
   "metadata": {},
   "outputs": [
    {
     "name": "stdout",
     "output_type": "stream",
     "text": [
      "Andy\n",
      "Amy\n"
     ]
    }
   ],
   "source": [
    "for student in scores:\n",
    "    if \"J\" in student:\n",
    "        break\n",
    "    print(student)"
   ]
  },
  {
   "cell_type": "code",
   "execution_count": 5,
   "id": "c069b6de",
   "metadata": {},
   "outputs": [
    {
     "name": "stdout",
     "output_type": "stream",
     "text": [
      "Andy\n",
      "Amy\n",
      "Arthur\n"
     ]
    }
   ],
   "source": [
    "for student in scores:\n",
    "    if \"J\" in student:\n",
    "        continue\n",
    "    print(student)"
   ]
  }
 ],
 "metadata": {
  "kernelspec": {
   "display_name": "Python 3 (ipykernel)",
   "language": "python",
   "name": "python3"
  },
  "language_info": {
   "codemirror_mode": {
    "name": "ipython",
    "version": 3
   },
   "file_extension": ".py",
   "mimetype": "text/x-python",
   "name": "python",
   "nbconvert_exporter": "python",
   "pygments_lexer": "ipython3",
   "version": "3.9.13"
  }
 },
 "nbformat": 4,
 "nbformat_minor": 5
}
